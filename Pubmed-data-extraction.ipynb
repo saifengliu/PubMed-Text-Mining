{
 "cells": [
  {
   "cell_type": "markdown",
   "metadata": {},
   "source": [
    "## Downloading Data from PubMed\n",
    "The data in this study were obtained from PubMed using the package Entrez in Biopython, with fixed search term 'susceptibility+weighted+imaging or susceptibility+mapping'. The information of each paper include title, author list, institution list, keywords, and abstract. The data were saved in txt format for later processing. "
   ]
  },
  {
   "cell_type": "code",
   "execution_count": 1,
   "metadata": {
    "collapsed": true
   },
   "outputs": [],
   "source": [
    "from Bio import Entrez\n",
    "import time\n",
    "from urllib.error import HTTPError  # for Python 3"
   ]
  },
  {
   "cell_type": "code",
   "execution_count": 2,
   "metadata": {
    "collapsed": true
   },
   "outputs": [],
   "source": [
    "def search(query, num=2):\n",
    "    Entrez.email = ' '\n",
    "    Entrez.tool = ' '\n",
    "    handle = Entrez.esearch(db='pubmed', \n",
    "                            sort='relevance', \n",
    "                            retmax=str(num),\n",
    "                            retmode='xml',\n",
    "                            usehistory='y',\n",
    "                            term=query)\n",
    "    results = Entrez.read(handle)\n",
    "    handle.close()\n",
    "    return results"
   ]
  },
  {
   "cell_type": "code",
   "execution_count": 3,
   "metadata": {
    "collapsed": true
   },
   "outputs": [],
   "source": [
    "# search_results=search('quantitative susceptibility mapping magnetic',300)\n",
    "search_results=search('susceptibility+weighted+imaging or susceptibility+mapping ',1000)"
   ]
  },
  {
   "cell_type": "code",
   "execution_count": 4,
   "metadata": {
    "collapsed": true
   },
   "outputs": [],
   "source": [
    "count = int(search_results[\"Count\"])\n",
    "webenv = search_results[\"WebEnv\"]\n",
    "query_key = search_results[\"QueryKey\"]\n",
    "batch_size = 50\n",
    "out_handle = open(\"SWI_QSM_papers.txt\", \"w\")"
   ]
  },
  {
   "cell_type": "code",
   "execution_count": 5,
   "metadata": {
    "collapsed": false
   },
   "outputs": [
    {
     "name": "stdout",
     "output_type": "stream",
     "text": [
      "Downloading record 1 to 50\n",
      "Downloading record 51 to 100\n",
      "Downloading record 101 to 150\n",
      "Downloading record 151 to 200\n",
      "Downloading record 201 to 250\n",
      "Downloading record 251 to 300\n",
      "Downloading record 301 to 350\n",
      "Downloading record 351 to 400\n",
      "Downloading record 401 to 450\n",
      "Downloading record 451 to 500\n",
      "Downloading record 501 to 550\n",
      "Downloading record 551 to 600\n",
      "Downloading record 601 to 650\n",
      "Downloading record 651 to 700\n",
      "Downloading record 701 to 750\n",
      "Downloading record 751 to 800\n",
      "Downloading record 801 to 850\n",
      "Downloading record 851 to 900\n",
      "Downloading record 901 to 945\n"
     ]
    }
   ],
   "source": [
    "for start in range(0, count, batch_size):\n",
    "    end = min(count, start+batch_size)\n",
    "    print(\"Downloading record %i to %i\" % (start+1, end))\n",
    "    attempt = 1\n",
    "    while attempt <= 3:\n",
    "        try:\n",
    "            Entrez.email = 'saifeng.mcmaster@gmail.com'\n",
    "            Entrez.tool = 'WisOnePubMedProject'\n",
    "            fetch_handle = Entrez.efetch(db=\"pubmed\", \n",
    "                                         rettype=\"medline\", \n",
    "                                         retmode=\"text\",\n",
    "                                         retstart=start, \n",
    "                                         retmax=batch_size,\n",
    "                                         webenv=webenv, \n",
    "                                         query_key=query_key)\n",
    "            attempt = 4\n",
    "            time.sleep(1)\n",
    "        except HTTPError as err:\n",
    "            if 500 <= err.code <= 599:\n",
    "                print(\"Received error from server %s\" % err)\n",
    "                print(\"Attempt %i of 3\" % attempt)\n",
    "                attempt += 1\n",
    "                time.sleep(15)\n",
    "            else:\n",
    "                raise\n",
    "    data = fetch_handle.read()\n",
    "    fetch_handle.close()\n",
    "    out_handle.write(data)\n",
    "out_handle.close()"
   ]
  },
  {
   "cell_type": "code",
   "execution_count": null,
   "metadata": {
    "collapsed": true
   },
   "outputs": [],
   "source": []
  }
 ],
 "metadata": {
  "kernelspec": {
   "display_name": "Python 3",
   "language": "python",
   "name": "python3"
  },
  "language_info": {
   "codemirror_mode": {
    "name": "ipython",
    "version": 3
   },
   "file_extension": ".py",
   "mimetype": "text/x-python",
   "name": "python",
   "nbconvert_exporter": "python",
   "pygments_lexer": "ipython3",
   "version": "3.4.4"
  }
 },
 "nbformat": 4,
 "nbformat_minor": 0
}
